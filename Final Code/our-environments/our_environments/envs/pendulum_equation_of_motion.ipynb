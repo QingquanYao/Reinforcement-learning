{
 "cells": [
  {
   "cell_type": "code",
   "execution_count": 1,
   "metadata": {},
   "outputs": [],
   "source": [
    "import numpy as np\n",
    "import matplotlib.pyplot as plt\n",
    "from scipy.integrate import odeint\n",
    "import sympy as smp\n",
    "from matplotlib import animation\n",
    "from matplotlib.animation import PillowWriter"
   ]
  },
  {
   "cell_type": "markdown",
   "metadata": {},
   "source": [
    "### Theroy"
   ]
  },
  {
   "cell_type": "markdown",
   "metadata": {},
   "source": [
    "#### Torque"
   ]
  },
  {
   "cell_type": "markdown",
   "metadata": {},
   "source": [
    "The net torque $ \\tau$ on a body determines the rate of change of the body's angular momentum\n",
    "\n",
    "$ \\tau=\\frac{d\\vec{L}}{dt} $ ,     $ \\vec{L}=I\\vec{\\omega}$\n",
    "\n",
    "$ \\tau=I\\frac{d\\vec{w}}{dt} $\n",
    "\n",
    "$ \\tau=I \\ddot{\\theta}$\n",
    "where $I$ is moment of inertia of the body, given by $I=\\sum{mr^2}$.\n",
    "\n",
    "The moment of inertia of a rod of uniform quality is \n",
    "$I=\\frac{1}{3}mL^2$, where $m$ and $L$ are the mass and length of rod."
   ]
  },
  {
   "cell_type": "markdown",
   "metadata": {},
   "source": [
    "#### Lagrange equations with non-conservation force"
   ]
  },
  {
   "cell_type": "markdown",
   "metadata": {},
   "source": [
    "The conservative forces are involved in Lagrangian, and the non-conservative forces present in the form of generalized forces $Q$.\n",
    "\n",
    "$\\frac{d}{dt} \\frac{\\partial L}{\\partial \\dot{q_j}}- \\frac{\\partial L}{\\partial q_j}=Q_j$, $\\;\\;\\;\\;\\;\\;$ $j=1,2,3,....s$\n",
    "\n",
    "$Q_j=\\sum^{n}_{i=1} \\vec{F_i} \\cdot \\frac{\\partial \\vec{r_i}}{ \\partial q_j} $\n",
    "\n",
    "where $\\vec{r_j}$ are Cartesian coordinates, $q_j$ are generalized coordinates."
   ]
  },
  {
   "cell_type": "markdown",
   "metadata": {},
   "source": [
    "### First, we consider the single pendulum."
   ]
  },
  {
   "cell_type": "markdown",
   "metadata": {},
   "source": [
    "Define symbolic variables:"
   ]
  },
  {
   "cell_type": "code",
   "execution_count": 27,
   "metadata": {},
   "outputs": [],
   "source": [
    "tau, u, t, g, L, m, I = smp.symbols('tau u t g L m I')\n",
    "theta, Lag, x1, y1,x2,y2, Q, Fx, Fy, LE = smp.symbols('theta Lag x1 y1 x2 y2 Q F_x F_y LE', cls=smp.Function)"
   ]
  },
  {
   "cell_type": "code",
   "execution_count": 28,
   "metadata": {},
   "outputs": [
    {
     "data": {
      "text/latex": [
       "$\\displaystyle \\frac{d^{2}}{d t^{2}} \\theta{\\left(t \\right)}$"
      ],
      "text/plain": [
       "Derivative(theta(t), (t, 2))"
      ]
     },
     "execution_count": 28,
     "metadata": {},
     "output_type": "execute_result"
    }
   ],
   "source": [
    "theta = theta(t)\n",
    "theta_d = smp.diff(theta, t)\n",
    "theta_dd = smp.diff(theta_d, t)\n",
    "theta_dd"
   ]
  },
  {
   "cell_type": "code",
   "execution_count": 29,
   "metadata": {},
   "outputs": [
    {
     "data": {
      "text/html": [
       "<img src=\"assets\\single_pendulum.jpg\"/>"
      ],
      "text/plain": [
       "<IPython.core.display.Image object>"
      ]
     },
     "execution_count": 29,
     "metadata": {},
     "output_type": "execute_result"
    }
   ],
   "source": [
    "from IPython.display import Image\n",
    "Image(url= \"assets\\single_pendulum.jpg\")"
   ]
  },
  {
   "cell_type": "markdown",
   "metadata": {},
   "source": []
  },
  {
   "cell_type": "markdown",
   "metadata": {},
   "source": [
    "The above result is $\\ddot{\\theta}=1.5*g*sin(\\theta(t))/L + 3.0*u/(L^2*m)$\n",
    "\n",
    "Subsutiting the above equation into the below equation\n",
    "\n",
    "$\\dot{\\theta}_{new}=\\dot{\\theta}_{old}+\\ddot{\\theta}*dt$\n",
    "\n",
    "Then we got,\n",
    "$\\dot{\\theta}_{new}=\\dot{\\theta}_{old}+(1.5*g*sin(\\theta_1(t))/L + 3.0*u/(L^2*m_1))*dt$\n",
    "\n",
    "The new $\\theta_{new}$ is given by\n",
    "$\\theta_{new}=\\theta_{old}+\\dot{\\theta}_{new}*dt$\n",
    "\n",
    "So far our observations $\\dot{\\theta}_{new}$ and $\\theta_{new}$ can be calculated step by step."
   ]
  },
  {
   "cell_type": "code",
   "execution_count": 30,
   "metadata": {},
   "outputs": [
    {
     "data": {
      "text/plain": [
       "[3*g*sin(theta(t))/(2*L) + 3*u/(L**2*m)]"
      ]
     },
     "execution_count": 30,
     "metadata": {},
     "output_type": "execute_result"
    }
   ],
   "source": [
    "I=smp.Rational(1,3)*m*L**2\n",
    "# I=m*L**2\n",
    "tau=smp.Rational(1,2)*m*g*L*smp.sin(theta)+u\n",
    "the1_dd_sol=smp.solve(tau-I*theta_dd, theta_dd, simplify=True, rational=False)\n",
    "the1_dd_sol"
   ]
  },
  {
   "cell_type": "markdown",
   "metadata": {},
   "source": [
    "$\\ddot{\\theta}=3*g*sin(\\theta)/(2*L) + 3*u/(L^2*m)$"
   ]
  },
  {
   "cell_type": "markdown",
   "metadata": {},
   "source": [
    "Lagrangian method"
   ]
  },
  {
   "cell_type": "code",
   "execution_count": 6,
   "metadata": {},
   "outputs": [
    {
     "data": {
      "text/latex": [
       "$\\displaystyle u \\sin^{2}{\\left(\\theta{\\left(t \\right)} \\right)} + u \\cos^{2}{\\left(\\theta{\\left(t \\right)} \\right)}$"
      ],
      "text/plain": [
       "u*sin(theta(t))**2 + u*cos(theta(t))**2"
      ]
     },
     "execution_count": 6,
     "metadata": {},
     "output_type": "execute_result"
    }
   ],
   "source": [
    "#position of mass center\n",
    "x1=L/2*smp.cos(theta)\n",
    "y1=L/2*smp.sin(theta)\n",
    "#force \n",
    "Fx=-u/L*smp.sin(theta)\n",
    "Fy=u/L*smp.cos(theta)\n",
    "#position of force acting on rod\n",
    "x2=L*smp.cos(theta)\n",
    "y2=L*smp.sin(theta)\n",
    "Q=Fx*smp.diff(x2,theta)+Fy*smp.diff(y2,theta)\n",
    "Q"
   ]
  },
  {
   "cell_type": "code",
   "execution_count": 7,
   "metadata": {},
   "outputs": [
    {
     "data": {
      "text/latex": [
       "$\\displaystyle \\frac{L^{2} m \\left(\\frac{d}{d t} \\theta{\\left(t \\right)}\\right)^{2}}{6} - \\frac{L g m \\sin{\\left(\\theta{\\left(t \\right)} \\right)}}{2}$"
      ],
      "text/plain": [
       "L**2*m*Derivative(theta(t), t)**2/6 - L*g*m*sin(theta(t))/2"
      ]
     },
     "execution_count": 7,
     "metadata": {},
     "output_type": "execute_result"
    }
   ],
   "source": [
    "Lag=smp.Rational(1,2)*I*(smp.diff(theta, t)**2)-(m*g*y1)\n",
    "Lag"
   ]
  },
  {
   "cell_type": "code",
   "execution_count": 8,
   "metadata": {},
   "outputs": [
    {
     "data": {
      "text/latex": [
       "$\\displaystyle \\frac{L^{2} m \\frac{d^{2}}{d t^{2}} \\theta{\\left(t \\right)}}{3} + \\frac{L g m \\cos{\\left(\\theta{\\left(t \\right)} \\right)}}{2} - u \\sin^{2}{\\left(\\theta{\\left(t \\right)} \\right)} - u \\cos^{2}{\\left(\\theta{\\left(t \\right)} \\right)}$"
      ],
      "text/plain": [
       "L**2*m*Derivative(theta(t), (t, 2))/3 + L*g*m*cos(theta(t))/2 - u*sin(theta(t))**2 - u*cos(theta(t))**2"
      ]
     },
     "execution_count": 8,
     "metadata": {},
     "output_type": "execute_result"
    }
   ],
   "source": [
    "LE=smp.diff(smp.diff(Lag,theta_d), t)-smp.diff(Lag,theta)-Q\n",
    "LE"
   ]
  },
  {
   "cell_type": "code",
   "execution_count": 9,
   "metadata": {},
   "outputs": [
    {
     "data": {
      "text/plain": [
       "[-3*g*cos(theta(t))/(2*L) + 3*u/(L**2*m)]"
      ]
     },
     "execution_count": 9,
     "metadata": {},
     "output_type": "execute_result"
    }
   ],
   "source": [
    "the2_dd_sol=smp.solve(LE, theta_dd, simplify=True, rational=False)\n",
    "the2_dd_sol"
   ]
  },
  {
   "cell_type": "markdown",
   "metadata": {},
   "source": [
    "$\\ddot{\\theta}=-3*g*sin(\\theta)/(2*L) + 3*u/(L^2*m)$\n",
    "\n",
    "This is as same as the result of the previous method."
   ]
  },
  {
   "cell_type": "markdown",
   "metadata": {},
   "source": [
    "### Second, we consider the double pendulum."
   ]
  },
  {
   "cell_type": "code",
   "execution_count": 10,
   "metadata": {},
   "outputs": [
    {
     "data": {
      "text/html": [
       "<img src=\"assets\\double_pendulum.jpg\"/>"
      ],
      "text/plain": [
       "<IPython.core.display.Image object>"
      ]
     },
     "execution_count": 10,
     "metadata": {},
     "output_type": "execute_result"
    }
   ],
   "source": [
    "Image(url= \"assets\\double_pendulum.jpg\")"
   ]
  },
  {
   "cell_type": "code",
   "execution_count": 11,
   "metadata": {},
   "outputs": [],
   "source": [
    "t, g, IC1, IC2, l1, l2, m1, m2 = smp.symbols('t g I_C1 I_C2 l_1 l_2 m_1 m_2')\n",
    "the1, the2 = smp.symbols('theta_1 theta_2', cls=smp.Function)"
   ]
  },
  {
   "cell_type": "code",
   "execution_count": 12,
   "metadata": {},
   "outputs": [],
   "source": [
    "IC1=smp.Rational(1,12)*m2*l1**2\n",
    "IC2=smp.Rational(1,12)*m2*l2**2\n",
    "the1 = the1(t)\n",
    "the2 = the2(t)\n",
    "the1_d = smp.diff(the1, t)\n",
    "the2_d = smp.diff(the2, t)\n",
    "the1_dd = smp.diff(the1_d, t)\n",
    "the2_dd = smp.diff(the2_d, t)"
   ]
  },
  {
   "cell_type": "code",
   "execution_count": 13,
   "metadata": {},
   "outputs": [],
   "source": [
    "x1,y1, x2, y2, x3,y3= smp.symbols('x_1 y_1 x_2 y_2 x_3 y_3')\n",
    "#position of mass center of Pole_1 and Pole_2, and position r3=(x3,y3) where force acting on "
   ]
  },
  {
   "cell_type": "code",
   "execution_count": 14,
   "metadata": {},
   "outputs": [],
   "source": [
    "x1 = l1/2*smp.sin(the1)\n",
    "y1 = -l1/2*smp.cos(the1)\n",
    "x2 = l1*smp.sin(the1)+l2/2*smp.sin(the2)\n",
    "y2 = -l1*smp.cos(the1)-l2/2*smp.cos(the2)\n",
    "x3 = l1*smp.sin(the1)+l2*smp.sin(the2)\n",
    "y3 = -l1*smp.cos(the1)-l2*smp.cos(the2)"
   ]
  },
  {
   "cell_type": "code",
   "execution_count": 15,
   "metadata": {},
   "outputs": [
    {
     "data": {
      "text/latex": [
       "$\\displaystyle \\frac{l_{1}^{2} m_{1} \\left(\\frac{d}{d t} \\theta_{1}{\\left(t \\right)}\\right)^{2}}{8} + \\frac{13 l_{1}^{2} m_{2} \\left(\\frac{d}{d t} \\theta_{1}{\\left(t \\right)}\\right)^{2}}{24} + \\frac{l_{1} l_{2} m_{2} \\cos{\\left(\\theta_{1}{\\left(t \\right)} - \\theta_{2}{\\left(t \\right)} \\right)} \\frac{d}{d t} \\theta_{1}{\\left(t \\right)} \\frac{d}{d t} \\theta_{2}{\\left(t \\right)}}{2} + \\frac{l_{2}^{2} m_{2} \\left(\\frac{d}{d t} \\theta_{2}{\\left(t \\right)}\\right)^{2}}{6}$"
      ],
      "text/plain": [
       "l_1**2*m_1*Derivative(theta_1(t), t)**2/8 + 13*l_1**2*m_2*Derivative(theta_1(t), t)**2/24 + l_1*l_2*m_2*cos(theta_1(t) - theta_2(t))*Derivative(theta_1(t), t)*Derivative(theta_2(t), t)/2 + l_2**2*m_2*Derivative(theta_2(t), t)**2/6"
      ]
     },
     "execution_count": 15,
     "metadata": {},
     "output_type": "execute_result"
    }
   ],
   "source": [
    "T, U= smp.symbols('T U', cls=smp.Function)\n",
    "#Kinetic energy and potential energy\n",
    "T=smp.Rational(1,2)*(m1*(smp.diff(x1,t)**2+smp.diff(y1,t)**2)+m2*(smp.diff(x2,t)**2+smp.diff(y2,t)**2))+smp.Rational(1,2)*(IC1*the1_d**2+IC2*the2_d**2)\n",
    "U=m1*g*y1+m2*g*y2\n",
    "T=smp.simplify(T)\n",
    "T"
   ]
  },
  {
   "cell_type": "code",
   "execution_count": 16,
   "metadata": {},
   "outputs": [
    {
     "data": {
      "text/latex": [
       "$\\displaystyle \\frac{g l_{1} m_{1} \\cos{\\left(\\theta_{1}{\\left(t \\right)} \\right)}}{2} + \\frac{g m_{2} \\left(2 l_{1} \\cos{\\left(\\theta_{1}{\\left(t \\right)} \\right)} + l_{2} \\cos{\\left(\\theta_{2}{\\left(t \\right)} \\right)}\\right)}{2} + \\frac{l_{1}^{2} m_{1} \\left(\\frac{d}{d t} \\theta_{1}{\\left(t \\right)}\\right)^{2}}{8} + \\frac{13 l_{1}^{2} m_{2} \\left(\\frac{d}{d t} \\theta_{1}{\\left(t \\right)}\\right)^{2}}{24} + \\frac{l_{1} l_{2} m_{2} \\cos{\\left(\\theta_{1}{\\left(t \\right)} - \\theta_{2}{\\left(t \\right)} \\right)} \\frac{d}{d t} \\theta_{1}{\\left(t \\right)} \\frac{d}{d t} \\theta_{2}{\\left(t \\right)}}{2} + \\frac{l_{2}^{2} m_{2} \\left(\\frac{d}{d t} \\theta_{2}{\\left(t \\right)}\\right)^{2}}{6}$"
      ],
      "text/plain": [
       "g*l_1*m_1*cos(theta_1(t))/2 + g*m_2*(2*l_1*cos(theta_1(t)) + l_2*cos(theta_2(t)))/2 + l_1**2*m_1*Derivative(theta_1(t), t)**2/8 + 13*l_1**2*m_2*Derivative(theta_1(t), t)**2/24 + l_1*l_2*m_2*cos(theta_1(t) - theta_2(t))*Derivative(theta_1(t), t)*Derivative(theta_2(t), t)/2 + l_2**2*m_2*Derivative(theta_2(t), t)**2/6"
      ]
     },
     "execution_count": 16,
     "metadata": {},
     "output_type": "execute_result"
    }
   ],
   "source": [
    "Lar2= smp.symbols('Lar2', cls=smp.Function)\n",
    "Lar2=smp.simplify(T-U)\n",
    "Lar2\n"
   ]
  },
  {
   "cell_type": "markdown",
   "metadata": {},
   "source": [
    "Assuming the force is perpendicular to the line that crossing axel and the far end of Pole_2"
   ]
  },
  {
   "cell_type": "code",
   "execution_count": 17,
   "metadata": {},
   "outputs": [
    {
     "data": {
      "text/html": [
       "<img src=\"assets\\Angle.jpg\"/>"
      ],
      "text/plain": [
       "<IPython.core.display.Image object>"
      ]
     },
     "execution_count": 17,
     "metadata": {},
     "output_type": "execute_result"
    }
   ],
   "source": [
    "Image(url= \"assets\\Angle.jpg\")"
   ]
  },
  {
   "cell_type": "code",
   "execution_count": 18,
   "metadata": {},
   "outputs": [
    {
     "data": {
      "text/latex": [
       "$\\displaystyle \\theta_{1}{\\left(t \\right)} - \\operatorname{asin}{\\left(\\frac{l_{2} \\sin{\\left(\\theta_{1}{\\left(t \\right)} - \\theta_{2}{\\left(t \\right)} \\right)}}{\\sqrt{l_{1}^{2} + 2 l_{1} l_{2} \\cos{\\left(\\theta_{1}{\\left(t \\right)} - \\theta_{2}{\\left(t \\right)} \\right)} + l_{2}^{2}}} \\right)}$"
      ],
      "text/plain": [
       "theta_1(t) - asin(l_2*sin(theta_1(t) - theta_2(t))/sqrt(l_1**2 + 2*l_1*l_2*cos(theta_1(t) - theta_2(t)) + l_2**2))"
      ]
     },
     "execution_count": 18,
     "metadata": {},
     "output_type": "execute_result"
    }
   ],
   "source": [
    "# a is x, b is y\n",
    "alpha, a, b, l3=smp.symbols('alpha a b l_3')\n",
    "b=smp.pi+the1-the2\n",
    "l3=smp.sqrt(l1**2+l2**2-2*l1*l2*smp.cos(b))\n",
    "a=smp.asin(smp.sin(b)/l3*l2)\n",
    "alpha=smp.simplify(the1+a)\n",
    "alpha"
   ]
  },
  {
   "cell_type": "code",
   "execution_count": 19,
   "metadata": {},
   "outputs": [],
   "source": [
    "F=smp.symbols('F')\n",
    "Q1, Q2, Fx, Fy=smp.symbols('Q_1 Q_2 F_x F_y', cls=smp.Function)\n",
    "Fx=F*smp.cos(alpha)\n",
    "Fy=F*smp.sin(alpha)\n",
    "Q1=Fx*smp.diff(x3,the1)+Fy*smp.diff(y3,the1)\n",
    "Q2=Fx*smp.diff(x3,the2)+Fy*smp.diff(y3,the2)"
   ]
  },
  {
   "cell_type": "markdown",
   "metadata": {},
   "source": [
    "Get Lagrange's equations\n",
    "\n",
    "$$ \\frac{d}{dt}\\frac{\\partial L}{\\partial \\dot{\\theta_1}}-\\frac{\\partial L}{\\partial \\theta_1} = Q_1$$\n",
    "$$\\frac{d}{dt}\\frac{\\partial L}{\\partial \\dot{\\theta_2}} -\\frac{\\partial L}{\\partial \\theta_2}= Q_2$$"
   ]
  },
  {
   "cell_type": "code",
   "execution_count": 20,
   "metadata": {},
   "outputs": [],
   "source": [
    "LE1=smp.diff(smp.diff(Lar2,the1_d),t)-smp.diff(Lar2,the1)-Q1\n",
    "LE2=smp.diff(smp.diff(Lar2,the2_d),t)-smp.diff(Lar2,the2)-Q2\n",
    "sols= smp.solve([LE1, LE2], (the1_dd, the2_dd),simplify=True, rational=True)"
   ]
  },
  {
   "cell_type": "markdown",
   "metadata": {},
   "source": [
    "Now we have \n",
    "\n",
    "* $\\frac{d^2 \\theta_1}{dt^2} = ...$\n",
    "* $\\frac{d^2 \\theta_2}{dt^2} = ...$"
   ]
  },
  {
   "cell_type": "code",
   "execution_count": 21,
   "metadata": {},
   "outputs": [
    {
     "data": {
      "text/latex": [
       "$\\displaystyle \\frac{12 F \\sin{\\left(\\theta_{1}{\\left(t \\right)} - \\operatorname{asin}{\\left(\\frac{l_{2} \\sin{\\left(\\theta_{1}{\\left(t \\right)} - \\theta_{2}{\\left(t \\right)} \\right)}}{\\sqrt{l_{1}^{2} + 2 l_{1} l_{2} \\cos{\\left(\\theta_{1}{\\left(t \\right)} - \\theta_{2}{\\left(t \\right)} \\right)} + l_{2}^{2}}} \\right)} \\right)} \\sin{\\left(\\theta_{1}{\\left(t \\right)} \\right)} - 18 F \\sin{\\left(\\theta_{1}{\\left(t \\right)} - \\operatorname{asin}{\\left(\\frac{l_{2} \\sin{\\left(\\theta_{1}{\\left(t \\right)} - \\theta_{2}{\\left(t \\right)} \\right)}}{\\sqrt{l_{1}^{2} + 2 l_{1} l_{2} \\cos{\\left(\\theta_{1}{\\left(t \\right)} - \\theta_{2}{\\left(t \\right)} \\right)} + l_{2}^{2}}} \\right)} \\right)} \\sin{\\left(\\theta_{2}{\\left(t \\right)} \\right)} \\cos{\\left(\\theta_{1}{\\left(t \\right)} - \\theta_{2}{\\left(t \\right)} \\right)} - 18 F \\cos{\\left(\\theta_{1}{\\left(t \\right)} - \\theta_{2}{\\left(t \\right)} \\right)} \\cos{\\left(\\theta_{1}{\\left(t \\right)} - \\operatorname{asin}{\\left(\\frac{l_{2} \\sin{\\left(\\theta_{1}{\\left(t \\right)} - \\theta_{2}{\\left(t \\right)} \\right)}}{\\sqrt{l_{1}^{2} + 2 l_{1} l_{2} \\cos{\\left(\\theta_{1}{\\left(t \\right)} - \\theta_{2}{\\left(t \\right)} \\right)} + l_{2}^{2}}} \\right)} \\right)} \\cos{\\left(\\theta_{2}{\\left(t \\right)} \\right)} + 12 F \\cos{\\left(\\theta_{1}{\\left(t \\right)} - \\operatorname{asin}{\\left(\\frac{l_{2} \\sin{\\left(\\theta_{1}{\\left(t \\right)} - \\theta_{2}{\\left(t \\right)} \\right)}}{\\sqrt{l_{1}^{2} + 2 l_{1} l_{2} \\cos{\\left(\\theta_{1}{\\left(t \\right)} - \\theta_{2}{\\left(t \\right)} \\right)} + l_{2}^{2}}} \\right)} \\right)} \\cos{\\left(\\theta_{1}{\\left(t \\right)} \\right)} - 6 g m_{1} \\sin{\\left(\\theta_{1}{\\left(t \\right)} \\right)} - 12 g m_{2} \\sin{\\left(\\theta_{1}{\\left(t \\right)} \\right)} + 9 g m_{2} \\sin{\\left(\\theta_{2}{\\left(t \\right)} \\right)} \\cos{\\left(\\theta_{1}{\\left(t \\right)} - \\theta_{2}{\\left(t \\right)} \\right)} - \\frac{9 l_{1} m_{2} \\sin{\\left(2 \\theta_{1}{\\left(t \\right)} - 2 \\theta_{2}{\\left(t \\right)} \\right)} \\left(\\frac{d}{d t} \\theta_{1}{\\left(t \\right)}\\right)^{2}}{2} - 6 l_{2} m_{2} \\sin{\\left(\\theta_{1}{\\left(t \\right)} - \\theta_{2}{\\left(t \\right)} \\right)} \\left(\\frac{d}{d t} \\theta_{2}{\\left(t \\right)}\\right)^{2}}{l_{1} \\left(3 m_{1} - 9 m_{2} \\cos^{2}{\\left(\\theta_{1}{\\left(t \\right)} - \\theta_{2}{\\left(t \\right)} \\right)} + 13 m_{2}\\right)}$"
      ],
      "text/plain": [
       "(12*F*sin(theta_1(t) - asin(l_2*sin(theta_1(t) - theta_2(t))/sqrt(l_1**2 + 2*l_1*l_2*cos(theta_1(t) - theta_2(t)) + l_2**2)))*sin(theta_1(t)) - 18*F*sin(theta_1(t) - asin(l_2*sin(theta_1(t) - theta_2(t))/sqrt(l_1**2 + 2*l_1*l_2*cos(theta_1(t) - theta_2(t)) + l_2**2)))*sin(theta_2(t))*cos(theta_1(t) - theta_2(t)) - 18*F*cos(theta_1(t) - theta_2(t))*cos(theta_1(t) - asin(l_2*sin(theta_1(t) - theta_2(t))/sqrt(l_1**2 + 2*l_1*l_2*cos(theta_1(t) - theta_2(t)) + l_2**2)))*cos(theta_2(t)) + 12*F*cos(theta_1(t) - asin(l_2*sin(theta_1(t) - theta_2(t))/sqrt(l_1**2 + 2*l_1*l_2*cos(theta_1(t) - theta_2(t)) + l_2**2)))*cos(theta_1(t)) - 6*g*m_1*sin(theta_1(t)) - 12*g*m_2*sin(theta_1(t)) + 9*g*m_2*sin(theta_2(t))*cos(theta_1(t) - theta_2(t)) - 9*l_1*m_2*sin(2*theta_1(t) - 2*theta_2(t))*Derivative(theta_1(t), t)**2/2 - 6*l_2*m_2*sin(theta_1(t) - theta_2(t))*Derivative(theta_2(t), t)**2)/(l_1*(3*m_1 - 9*m_2*cos(theta_1(t) - theta_2(t))**2 + 13*m_2))"
      ]
     },
     "execution_count": 21,
     "metadata": {},
     "output_type": "execute_result"
    }
   ],
   "source": [
    "sols[the1_dd]"
   ]
  },
  {
   "cell_type": "code",
   "execution_count": 22,
   "metadata": {},
   "outputs": [
    {
     "data": {
      "text/latex": [
       "$\\displaystyle \\frac{3 \\left(6 F m_{1} \\sin{\\left(\\theta_{1}{\\left(t \\right)} - \\operatorname{asin}{\\left(\\frac{l_{2} \\sin{\\left(\\theta_{1}{\\left(t \\right)} - \\theta_{2}{\\left(t \\right)} \\right)}}{\\sqrt{l_{1}^{2} + 2 l_{1} l_{2} \\cos{\\left(\\theta_{1}{\\left(t \\right)} - \\theta_{2}{\\left(t \\right)} \\right)} + l_{2}^{2}}} \\right)} \\right)} \\sin{\\left(\\theta_{2}{\\left(t \\right)} \\right)} + 6 F m_{1} \\cos{\\left(\\theta_{1}{\\left(t \\right)} - \\operatorname{asin}{\\left(\\frac{l_{2} \\sin{\\left(\\theta_{1}{\\left(t \\right)} - \\theta_{2}{\\left(t \\right)} \\right)}}{\\sqrt{l_{1}^{2} + 2 l_{1} l_{2} \\cos{\\left(\\theta_{1}{\\left(t \\right)} - \\theta_{2}{\\left(t \\right)} \\right)} + l_{2}^{2}}} \\right)} \\right)} \\cos{\\left(\\theta_{2}{\\left(t \\right)} \\right)} - 12 F m_{2} \\sin{\\left(\\theta_{1}{\\left(t \\right)} - \\operatorname{asin}{\\left(\\frac{l_{2} \\sin{\\left(\\theta_{1}{\\left(t \\right)} - \\theta_{2}{\\left(t \\right)} \\right)}}{\\sqrt{l_{1}^{2} + 2 l_{1} l_{2} \\cos{\\left(\\theta_{1}{\\left(t \\right)} - \\theta_{2}{\\left(t \\right)} \\right)} + l_{2}^{2}}} \\right)} \\right)} \\sin{\\left(\\theta_{1}{\\left(t \\right)} \\right)} \\cos{\\left(\\theta_{1}{\\left(t \\right)} - \\theta_{2}{\\left(t \\right)} \\right)} + 26 F m_{2} \\sin{\\left(\\theta_{1}{\\left(t \\right)} - \\operatorname{asin}{\\left(\\frac{l_{2} \\sin{\\left(\\theta_{1}{\\left(t \\right)} - \\theta_{2}{\\left(t \\right)} \\right)}}{\\sqrt{l_{1}^{2} + 2 l_{1} l_{2} \\cos{\\left(\\theta_{1}{\\left(t \\right)} - \\theta_{2}{\\left(t \\right)} \\right)} + l_{2}^{2}}} \\right)} \\right)} \\sin{\\left(\\theta_{2}{\\left(t \\right)} \\right)} - 12 F m_{2} \\cos{\\left(\\theta_{1}{\\left(t \\right)} - \\theta_{2}{\\left(t \\right)} \\right)} \\cos{\\left(\\theta_{1}{\\left(t \\right)} - \\operatorname{asin}{\\left(\\frac{l_{2} \\sin{\\left(\\theta_{1}{\\left(t \\right)} - \\theta_{2}{\\left(t \\right)} \\right)}}{\\sqrt{l_{1}^{2} + 2 l_{1} l_{2} \\cos{\\left(\\theta_{1}{\\left(t \\right)} - \\theta_{2}{\\left(t \\right)} \\right)} + l_{2}^{2}}} \\right)} \\right)} \\cos{\\left(\\theta_{1}{\\left(t \\right)} \\right)} + 26 F m_{2} \\cos{\\left(\\theta_{1}{\\left(t \\right)} - \\operatorname{asin}{\\left(\\frac{l_{2} \\sin{\\left(\\theta_{1}{\\left(t \\right)} - \\theta_{2}{\\left(t \\right)} \\right)}}{\\sqrt{l_{1}^{2} + 2 l_{1} l_{2} \\cos{\\left(\\theta_{1}{\\left(t \\right)} - \\theta_{2}{\\left(t \\right)} \\right)} + l_{2}^{2}}} \\right)} \\right)} \\cos{\\left(\\theta_{2}{\\left(t \\right)} \\right)} + 6 g m_{1} m_{2} \\sin{\\left(\\theta_{1}{\\left(t \\right)} \\right)} \\cos{\\left(\\theta_{1}{\\left(t \\right)} - \\theta_{2}{\\left(t \\right)} \\right)} - 3 g m_{1} m_{2} \\sin{\\left(\\theta_{2}{\\left(t \\right)} \\right)} + 12 g m_{2}^{2} \\sin{\\left(\\theta_{1}{\\left(t \\right)} \\right)} \\cos{\\left(\\theta_{1}{\\left(t \\right)} - \\theta_{2}{\\left(t \\right)} \\right)} - 13 g m_{2}^{2} \\sin{\\left(\\theta_{2}{\\left(t \\right)} \\right)} + 3 l_{1} m_{1} m_{2} \\sin{\\left(\\theta_{1}{\\left(t \\right)} - \\theta_{2}{\\left(t \\right)} \\right)} \\left(\\frac{d}{d t} \\theta_{1}{\\left(t \\right)}\\right)^{2} + 13 l_{1} m_{2}^{2} \\sin{\\left(\\theta_{1}{\\left(t \\right)} - \\theta_{2}{\\left(t \\right)} \\right)} \\left(\\frac{d}{d t} \\theta_{1}{\\left(t \\right)}\\right)^{2} + 3 l_{2} m_{2}^{2} \\sin{\\left(2 \\theta_{1}{\\left(t \\right)} - 2 \\theta_{2}{\\left(t \\right)} \\right)} \\left(\\frac{d}{d t} \\theta_{2}{\\left(t \\right)}\\right)^{2}\\right)}{2 l_{2} m_{2} \\left(3 m_{1} - 9 m_{2} \\cos^{2}{\\left(\\theta_{1}{\\left(t \\right)} - \\theta_{2}{\\left(t \\right)} \\right)} + 13 m_{2}\\right)}$"
      ],
      "text/plain": [
       "3*(6*F*m_1*sin(theta_1(t) - asin(l_2*sin(theta_1(t) - theta_2(t))/sqrt(l_1**2 + 2*l_1*l_2*cos(theta_1(t) - theta_2(t)) + l_2**2)))*sin(theta_2(t)) + 6*F*m_1*cos(theta_1(t) - asin(l_2*sin(theta_1(t) - theta_2(t))/sqrt(l_1**2 + 2*l_1*l_2*cos(theta_1(t) - theta_2(t)) + l_2**2)))*cos(theta_2(t)) - 12*F*m_2*sin(theta_1(t) - asin(l_2*sin(theta_1(t) - theta_2(t))/sqrt(l_1**2 + 2*l_1*l_2*cos(theta_1(t) - theta_2(t)) + l_2**2)))*sin(theta_1(t))*cos(theta_1(t) - theta_2(t)) + 26*F*m_2*sin(theta_1(t) - asin(l_2*sin(theta_1(t) - theta_2(t))/sqrt(l_1**2 + 2*l_1*l_2*cos(theta_1(t) - theta_2(t)) + l_2**2)))*sin(theta_2(t)) - 12*F*m_2*cos(theta_1(t) - theta_2(t))*cos(theta_1(t) - asin(l_2*sin(theta_1(t) - theta_2(t))/sqrt(l_1**2 + 2*l_1*l_2*cos(theta_1(t) - theta_2(t)) + l_2**2)))*cos(theta_1(t)) + 26*F*m_2*cos(theta_1(t) - asin(l_2*sin(theta_1(t) - theta_2(t))/sqrt(l_1**2 + 2*l_1*l_2*cos(theta_1(t) - theta_2(t)) + l_2**2)))*cos(theta_2(t)) + 6*g*m_1*m_2*sin(theta_1(t))*cos(theta_1(t) - theta_2(t)) - 3*g*m_1*m_2*sin(theta_2(t)) + 12*g*m_2**2*sin(theta_1(t))*cos(theta_1(t) - theta_2(t)) - 13*g*m_2**2*sin(theta_2(t)) + 3*l_1*m_1*m_2*sin(theta_1(t) - theta_2(t))*Derivative(theta_1(t), t)**2 + 13*l_1*m_2**2*sin(theta_1(t) - theta_2(t))*Derivative(theta_1(t), t)**2 + 3*l_2*m_2**2*sin(2*theta_1(t) - 2*theta_2(t))*Derivative(theta_2(t), t)**2)/(2*l_2*m_2*(3*m_1 - 9*m_2*cos(theta_1(t) - theta_2(t))**2 + 13*m_2))"
      ]
     },
     "execution_count": 22,
     "metadata": {},
     "output_type": "execute_result"
    }
   ],
   "source": [
    "smp.simplify(sols[the2_dd])"
   ]
  },
  {
   "cell_type": "code",
   "execution_count": 23,
   "metadata": {},
   "outputs": [
    {
     "data": {
      "text/plain": [
       "<bound method Basic.simplify of (12*F*sin(theta_1(t) - asin(l_2*sin(theta_1(t) - theta_2(t))/sqrt(l_1**2 + 2*l_1*l_2*cos(theta_1(t) - theta_2(t)) + l_2**2)))*sin(theta_1(t)) - 18*F*sin(theta_1(t) - asin(l_2*sin(theta_1(t) - theta_2(t))/sqrt(l_1**2 + 2*l_1*l_2*cos(theta_1(t) - theta_2(t)) + l_2**2)))*sin(theta_2(t))*cos(theta_1(t) - theta_2(t)) - 18*F*cos(theta_1(t) - theta_2(t))*cos(theta_1(t) - asin(l_2*sin(theta_1(t) - theta_2(t))/sqrt(l_1**2 + 2*l_1*l_2*cos(theta_1(t) - theta_2(t)) + l_2**2)))*cos(theta_2(t)) + 12*F*cos(theta_1(t) - asin(l_2*sin(theta_1(t) - theta_2(t))/sqrt(l_1**2 + 2*l_1*l_2*cos(theta_1(t) - theta_2(t)) + l_2**2)))*cos(theta_1(t)) - 6*g*m_1*sin(theta_1(t)) - 12*g*m_2*sin(theta_1(t)) + 9*g*m_2*sin(theta_2(t))*cos(theta_1(t) - theta_2(t)) - 9*l_1*m_2*sin(2*theta_1(t) - 2*theta_2(t))*Derivative(theta_1(t), t)**2/2 - 6*l_2*m_2*sin(theta_1(t) - theta_2(t))*Derivative(theta_2(t), t)**2)/(l_1*(3*m_1 - 9*m_2*cos(theta_1(t) - theta_2(t))**2 + 13*m_2))>"
      ]
     },
     "execution_count": 23,
     "metadata": {},
     "output_type": "execute_result"
    }
   ],
   "source": [
    "sols[the1_dd].simplify"
   ]
  },
  {
   "cell_type": "code",
   "execution_count": 24,
   "metadata": {},
   "outputs": [
    {
     "data": {
      "text/plain": [
       "<bound method Basic.simplify of 3*(6*F*m_1*sin(theta_1(t) - asin(l_2*sin(theta_1(t) - theta_2(t))/sqrt(l_1**2 + 2*l_1*l_2*cos(theta_1(t) - theta_2(t)) + l_2**2)))*sin(theta_2(t)) + 6*F*m_1*cos(theta_1(t) - asin(l_2*sin(theta_1(t) - theta_2(t))/sqrt(l_1**2 + 2*l_1*l_2*cos(theta_1(t) - theta_2(t)) + l_2**2)))*cos(theta_2(t)) - 12*F*m_2*sin(theta_1(t) - asin(l_2*sin(theta_1(t) - theta_2(t))/sqrt(l_1**2 + 2*l_1*l_2*cos(theta_1(t) - theta_2(t)) + l_2**2)))*sin(theta_1(t))*cos(theta_1(t) - theta_2(t)) + 26*F*m_2*sin(theta_1(t) - asin(l_2*sin(theta_1(t) - theta_2(t))/sqrt(l_1**2 + 2*l_1*l_2*cos(theta_1(t) - theta_2(t)) + l_2**2)))*sin(theta_2(t)) - 12*F*m_2*cos(theta_1(t) - theta_2(t))*cos(theta_1(t) - asin(l_2*sin(theta_1(t) - theta_2(t))/sqrt(l_1**2 + 2*l_1*l_2*cos(theta_1(t) - theta_2(t)) + l_2**2)))*cos(theta_1(t)) + 26*F*m_2*cos(theta_1(t) - asin(l_2*sin(theta_1(t) - theta_2(t))/sqrt(l_1**2 + 2*l_1*l_2*cos(theta_1(t) - theta_2(t)) + l_2**2)))*cos(theta_2(t)) + 6*g*m_1*m_2*sin(theta_1(t))*cos(theta_1(t) - theta_2(t)) - 3*g*m_1*m_2*sin(theta_2(t)) + 12*g*m_2**2*sin(theta_1(t))*cos(theta_1(t) - theta_2(t)) - 13*g*m_2**2*sin(theta_2(t)) + 3*l_1*m_1*m_2*sin(theta_1(t) - theta_2(t))*Derivative(theta_1(t), t)**2 + 13*l_1*m_2**2*sin(theta_1(t) - theta_2(t))*Derivative(theta_1(t), t)**2 + 3*l_2*m_2**2*sin(2*theta_1(t) - 2*theta_2(t))*Derivative(theta_2(t), t)**2)/(2*l_2*m_2*(3*m_1 - 9*m_2*cos(theta_1(t) - theta_2(t))**2 + 13*m_2))>"
      ]
     },
     "execution_count": 24,
     "metadata": {},
     "output_type": "execute_result"
    }
   ],
   "source": [
    "sols[the2_dd].simplify"
   ]
  },
  {
   "cell_type": "code",
   "execution_count": 25,
   "metadata": {},
   "outputs": [
    {
     "name": "stderr",
     "output_type": "stream",
     "text": [
      "C:\\Users\\yqqPC\\AppData\\Local\\Temp/ipykernel_5616/2518147911.py:1: RuntimeWarning: invalid value encountered in arcsin\n",
      "  np.arcsin(4)\n"
     ]
    },
    {
     "data": {
      "text/plain": [
       "nan"
      ]
     },
     "execution_count": 25,
     "metadata": {},
     "output_type": "execute_result"
    }
   ],
   "source": [
    "np.arcsin(4)"
   ]
  },
  {
   "cell_type": "code",
   "execution_count": null,
   "metadata": {},
   "outputs": [],
   "source": []
  }
 ],
 "metadata": {
  "interpreter": {
   "hash": "a09648efbc8b5f4d3868b107898c2b6af89d152f68073db89a075984dd217c42"
  },
  "kernelspec": {
   "display_name": "Python 3.9.9 64-bit ('pytorch': venv)",
   "language": "python",
   "name": "python3"
  },
  "language_info": {
   "codemirror_mode": {
    "name": "ipython",
    "version": 3
   },
   "file_extension": ".py",
   "mimetype": "text/x-python",
   "name": "python",
   "nbconvert_exporter": "python",
   "pygments_lexer": "ipython3",
   "version": "3.9.10"
  },
  "orig_nbformat": 4
 },
 "nbformat": 4,
 "nbformat_minor": 2
}
